{
 "cells": [
  {
   "cell_type": "code",
   "execution_count": 1,
   "metadata": {
    "executionInfo": {
     "elapsed": 2075,
     "status": "ok",
     "timestamp": 1670600102019,
     "user": {
      "displayName": "rattle “rattlecruiser” cruiser",
      "userId": "14107770519811238730"
     },
     "user_tz": 480
    },
    "id": "jlUInClGZCBM"
   },
   "outputs": [
    {
     "name": "stderr",
     "output_type": "stream",
     "text": [
      "C:\\Users\\kenta\\anaconda3\\lib\\site-packages\\xgboost\\compat.py:36: FutureWarning: pandas.Int64Index is deprecated and will be removed from pandas in a future version. Use pandas.Index with the appropriate dtype instead.\n",
      "  from pandas import MultiIndex, Int64Index\n"
     ]
    }
   ],
   "source": [
    "import pandas as pd\n",
    "import numpy as np\n",
    "import matplotlib.pyplot as plt\n",
    "import seaborn as sns\n",
    "from imblearn.over_sampling import SMOTENC\n",
    "from sklearn.model_selection import train_test_split\n",
    "from sklearn.metrics import confusion_matrix, accuracy_score,classification_report\n",
    "import xgboost as xgb\n",
    "from sklearn.preprocessing import OneHotEncoder\n",
    "from sklearn.model_selection import KFold\n",
    "from sklearn.model_selection import GridSearchCV, cross_val_score\n",
    "\n",
    "\n"
   ]
  },
  {
   "cell_type": "code",
   "execution_count": 2,
   "metadata": {
    "colab": {
     "base_uri": "https://localhost:8080/",
     "height": 341
    },
    "executionInfo": {
     "elapsed": 207,
     "status": "error",
     "timestamp": 1670600102223,
     "user": {
      "displayName": "rattle “rattlecruiser” cruiser",
      "userId": "14107770519811238730"
     },
     "user_tz": 480
    },
    "id": "KlhbcsCLZdpo",
    "outputId": "c44278ee-0892-43cd-fb06-9abc05252dad"
   },
   "outputs": [],
   "source": [
    "#Getting data, path may change after we are done with google colab\n",
    "cases_train = pd.read_excel('../data/cases_2021_train_processed_2.xlsx')\n",
    "cases_test = pd.read_excel('../data/cases_2021_test_processed_unlabelled_2.xlsx')"
   ]
  },
  {
   "cell_type": "code",
   "execution_count": 3,
   "metadata": {
    "executionInfo": {
     "elapsed": 8,
     "status": "aborted",
     "timestamp": 1670600102224,
     "user": {
      "displayName": "rattle “rattlecruiser” cruiser",
      "userId": "14107770519811238730"
     },
     "user_tz": 480
    },
    "id": "4jrHnQuyatNa"
   },
   "outputs": [],
   "source": [
    "#Altering some feartures in cases_train\n",
    "#combine province and country as one feature\n",
    "cases_train[\"province\"].fillna(\"\",inplace=True)\n",
    "cases_train[\"country_province\"] = cases_train[\"country\"] +\"_\"+cases_train[\"province\"]\n",
    "\n",
    "#Instead of raw numbers on active and recovered, changed them to ratio like Death\n",
    "cases_train[\"Case_Recovery_Ratio\"] = cases_train[\"Recovered\"] / cases_train[\"Confirmed\"]\n",
    "cases_train[\"Case_Active_Ratio\"] = cases_train[\"Active\"] / cases_train[\"Confirmed\"]\n",
    "\n",
    "#Change date and chronic disease datatype to object for mapping and balancing\n",
    "cases_train[\"date_confirmation\"] = cases_train[\"date_confirmation\"].dt.strftime('%Y-%m-%d')\n",
    "cases_train[\"chronic_disease_binary\"] = cases_train[\"chronic_disease_binary\"].map({True: 'True',False: 'False'})\n",
    "\n",
    "#Dropping features that are no longer needed \n",
    "drop_col = [\"province\", \"country\",\"latitude\",\"longitude\",\"Deaths\",\"Recovered\",\"Active\"]\n",
    "cases_train.drop(drop_col,axis=1,inplace=True)\n",
    "\n",
    "#=====>Should we alter datetime to an obj or a float since it is ordinal? It is currently an obj<====="
   ]
  },
  {
   "cell_type": "code",
   "execution_count": 4,
   "metadata": {
    "executionInfo": {
     "elapsed": 8,
     "status": "aborted",
     "timestamp": 1670600102224,
     "user": {
      "displayName": "rattle “rattlecruiser” cruiser",
      "userId": "14107770519811238730"
     },
     "user_tz": 480
    },
    "id": "Tken_nRsqPWz"
   },
   "outputs": [],
   "source": [
    "#Altering some feartures in cases_test\n",
    "#combine province and country as one feature\n",
    "cases_test[\"province\"].fillna(\"\",inplace=True)\n",
    "cases_test[\"country_province\"] = cases_test[\"country\"] +\"_\"+cases_test[\"province\"]\n",
    "\n",
    "#Instead of raw numbers on active and recovered, changed them to ratio like Death\n",
    "cases_test[\"Case_Recovery_Ratio\"] = cases_test[\"Recovered\"] / cases_test[\"Confirmed\"]\n",
    "cases_test[\"Case_Active_Ratio\"] = cases_test[\"Active\"] / cases_test[\"Confirmed\"]\n",
    "\n",
    "#Change date and chronic disease datatype to object for mapping and balancing\n",
    "cases_test[\"date_confirmation\"] = cases_test[\"date_confirmation\"].dt.strftime('%Y-%m-%d')\n",
    "cases_test[\"chronic_disease_binary\"] = cases_test[\"chronic_disease_binary\"].map({True: 'True',False: 'False'})\n",
    "\n",
    "#Dropping features that are no longer needed \n",
    "drop_col = [\"province\", \"country\",\"latitude\",\"longitude\",\"Deaths\",\"Recovered\",\"Active\"]\n",
    "cases_test.drop(drop_col,axis=1,inplace=True)\n",
    "\n",
    "# dummy encoding for cases test\n",
    "\n",
    "\n"
   ]
  },
  {
   "cell_type": "code",
   "execution_count": 5,
   "metadata": {
    "executionInfo": {
     "elapsed": 8,
     "status": "aborted",
     "timestamp": 1670600102225,
     "user": {
      "displayName": "rattle “rattlecruiser” cruiser",
      "userId": "14107770519811238730"
     },
     "user_tz": 480
    },
    "id": "2XAfD--kgLOj"
   },
   "outputs": [],
   "source": [
    "#cases_train.groupby(['outcome_group']).size()"
   ]
  },
  {
   "cell_type": "code",
   "execution_count": 6,
   "metadata": {
    "executionInfo": {
     "elapsed": 8,
     "status": "aborted",
     "timestamp": 1670600102225,
     "user": {
      "displayName": "rattle “rattlecruiser” cruiser",
      "userId": "14107770519811238730"
     },
     "user_tz": 480
    },
    "id": "rp0FpJ7olCte"
   },
   "outputs": [],
   "source": [
    "#Mapping outcome_group to numerical values as instructed in 1.2\n",
    "cases_train.outcome_group = pd.Categorical(cases_train.outcome_group)\n",
    "cases_train[\"outcome_group\"] = cases_train.outcome_group.cat.codes"
   ]
  },
  {
   "cell_type": "code",
   "execution_count": 7,
   "metadata": {
    "executionInfo": {
     "elapsed": 9,
     "status": "aborted",
     "timestamp": 1670600102226,
     "user": {
      "displayName": "rattle “rattlecruiser” cruiser",
      "userId": "14107770519811238730"
     },
     "user_tz": 480
    },
    "id": "rTMa0feptkcS"
   },
   "outputs": [],
   "source": [
    "#cases_test"
   ]
  },
  {
   "cell_type": "code",
   "execution_count": 8,
   "metadata": {
    "executionInfo": {
     "elapsed": 8,
     "status": "aborted",
     "timestamp": 1670600102226,
     "user": {
      "displayName": "rattle “rattlecruiser” cruiser",
      "userId": "14107770519811238730"
     },
     "user_tz": 480
    },
    "id": "7gl7gCUO2l1n"
   },
   "outputs": [],
   "source": [
    "#Splitting the feature we need to predict in the test case\n",
    "X = cases_train.drop(\"outcome_group\",axis = 1)\n",
    "y = cases_train.outcome_group "
   ]
  },
  {
   "cell_type": "code",
   "execution_count": 9,
   "metadata": {
    "executionInfo": {
     "elapsed": 8,
     "status": "aborted",
     "timestamp": 1670600102226,
     "user": {
      "displayName": "rattle “rattlecruiser” cruiser",
      "userId": "14107770519811238730"
     },
     "user_tz": 480
    },
    "id": "nn5UAs_IvhHm"
   },
   "outputs": [],
   "source": [
    "#Balance the dataset via oversampling using SMOTENC for non majority categorical classes\n",
    "oversample = SMOTENC(categorical_features=[X.dtypes==object],random_state = 101,sampling_strategy=\"not majority\")\n",
    "X_processed, y_processed = oversample.fit_resample(X,y)"
   ]
  },
  {
   "cell_type": "code",
   "execution_count": 10,
   "metadata": {
    "executionInfo": {
     "elapsed": 2630,
     "status": "aborted",
     "timestamp": 1670600102227,
     "user": {
      "displayName": "rattle “rattlecruiser” cruiser",
      "userId": "14107770519811238730"
     },
     "user_tz": 480
    },
    "id": "wGs9qoGLAlA-"
   },
   "outputs": [],
   "source": [
    "#Mapping all categorical values to numerical via dummy encoding since most of them are not ordinal\n",
    "X_processed = pd.get_dummies(X_processed, columns=X_processed.select_dtypes(exclude=\"number\").columns)\n",
    "cases_test = pd.get_dummies(cases_test, columns=cases_test.select_dtypes(exclude=\"number\").columns)"
   ]
  },
  {
   "cell_type": "code",
   "execution_count": 11,
   "metadata": {},
   "outputs": [],
   "source": [
    "#Prevent feature mismatch\n",
    "X_processed, test_processed = X_processed.align(cases_test, join='inner', axis=1) "
   ]
  },
  {
   "cell_type": "code",
   "execution_count": 12,
   "metadata": {
    "executionInfo": {
     "elapsed": 2629,
     "status": "aborted",
     "timestamp": 1670600102227,
     "user": {
      "displayName": "rattle “rattlecruiser” cruiser",
      "userId": "14107770519811238730"
     },
     "user_tz": 480
    },
    "id": "bVbE-wrxyRHi"
   },
   "outputs": [],
   "source": [
    "#Split the traning data to a set of new train data and test data at a 80:20 ratio \n",
    "\n",
    "X_train, X_test, y_train, y_test = train_test_split(X_processed, y_processed,test_size=0.20)"
   ]
  },
  {
   "cell_type": "code",
   "execution_count": 13,
   "metadata": {
    "executionInfo": {
     "elapsed": 2629,
     "status": "aborted",
     "timestamp": 1670600102228,
     "user": {
      "displayName": "rattle “rattlecruiser” cruiser",
      "userId": "14107770519811238730"
     },
     "user_tz": 480
    },
    "id": "w-Dw92EYCF8u"
   },
   "outputs": [],
   "source": [
    "#Setting up Kfold and xgb classifier for hyper tuning\n",
    "kf = KFold(n_splits=5,random_state = 10, shuffle = True)\n",
    "xgb_cl = xgb.XGBClassifier()"
   ]
  },
  {
   "cell_type": "code",
   "execution_count": 14,
   "metadata": {
    "executionInfo": {
     "elapsed": 4,
     "status": "aborted",
     "timestamp": 1670600102450,
     "user": {
      "displayName": "rattle “rattlecruiser” cruiser",
      "userId": "14107770519811238730"
     },
     "user_tz": 480
    },
    "id": "QWyaNlw2PI8Y"
   },
   "outputs": [
    {
     "name": "stderr",
     "output_type": "stream",
     "text": [
      "C:\\Users\\kenta\\anaconda3\\lib\\site-packages\\xgboost\\data.py:250: FutureWarning: pandas.Int64Index is deprecated and will be removed from pandas in a future version. Use pandas.Index with the appropriate dtype instead.\n",
      "  elif isinstance(data.columns, (pd.Int64Index, pd.RangeIndex)):\n"
     ]
    },
    {
     "name": "stdout",
     "output_type": "stream",
     "text": [
      "[23:14:53] WARNING: C:\\Windows\\Temp\\abs_557yfx631l\\croots\\recipe\\xgboost-split_1659548953302\\work\\src\\learner.cc:1115: Starting in XGBoost 1.3.0, the default evaluation metric used with the objective 'multi:softprob' was changed from 'merror' to 'mlogloss'. Explicitly set eval_metric if you'd like to restore the old behavior.\n",
      "{'colsample_bytree': 0.5, 'gamma': 0.25, 'learning_rate': 0.15, 'max_depth': 7, 'min_child_weight': 1, 'subsample': 0.8, 'tree_method': 'hist'}\n"
     ]
    }
   ],
   "source": [
    "#Hypertuning xgb_cl and getting the F1 score and accuracy\n",
    "#Since this cell takes a very long time since we use the GridSearchCV\n",
    "\n",
    "param_grid = {\n",
    "    \"max_depth\": [3,4,5,7],\n",
    "    \"min_child_weight\": [1,3,5],\n",
    "    \"gamma\": [0,0.25,1],\n",
    "    \"learning_rate\": [0.1,0.15,0.05],\n",
    "    \"subsample\":[0.8],\n",
    "    \"tree_method\":[\"hist\"],\n",
    "    \"colsample_bytree\": [0.5],\n",
    "}\n",
    "\n",
    "scorings = {\"F1_Macro\": \"f1_macro\",\"Acc\": \"accuracy\"}\n",
    "\n",
    "xgb_cl = xgb.XGBClassifier(use_label_encoder=False)\n",
    "\n",
    "grid_cv = GridSearchCV(xgb_cl, param_grid, n_jobs=-1, cv=kf, scoring=scorings,refit=\"F1_Macro\")\n",
    "\n",
    "grid_cv.fit(X_train, y_train)\n",
    "\n",
    "#grid_cv.best_score_\n",
    "\n",
    "best_param = grid_cv.best_params_\n",
    "\n",
    "print(best_param)\n",
    "\n",
    "param_table = pd.DataFrame(grid_cv.cv_results_)\n",
    "param_table = param_table[[\"params\",\"mean_test_F1_Macro\",\"mean_test_Acc\",\"rank_test_F1_Macro\"]]\n",
    "best_val = param_table.loc[param_table[\"rank_test_F1_Macro\"] == 1]\n",
    "param_table.to_csv('results/xgboost_tuning.txt', sep='\\t', index=False)\n",
    "\n",
    "\n"
   ]
  },
  {
   "cell_type": "code",
   "execution_count": 15,
   "metadata": {
    "executionInfo": {
     "elapsed": 5,
     "status": "aborted",
     "timestamp": 1670600102451,
     "user": {
      "displayName": "rattle “rattlecruiser” cruiser",
      "userId": "14107770519811238730"
     },
     "user_tz": 480
    },
    "id": "3zCN9Ah_b_D7"
   },
   "outputs": [
    {
     "name": "stdout",
     "output_type": "stream",
     "text": [
      "[23:14:55] WARNING: C:\\Windows\\Temp\\abs_557yfx631l\\croots\\recipe\\xgboost-split_1659548953302\\work\\src\\learner.cc:1115: Starting in XGBoost 1.3.0, the default evaluation metric used with the objective 'multi:softprob' was changed from 'merror' to 'mlogloss'. Explicitly set eval_metric if you'd like to restore the old behavior.\n"
     ]
    },
    {
     "name": "stderr",
     "output_type": "stream",
     "text": [
      "C:\\Users\\kenta\\anaconda3\\lib\\site-packages\\xgboost\\sklearn.py:1224: UserWarning: The use of label encoder in XGBClassifier is deprecated and will be removed in a future release. To remove this warning, do the following: 1) Pass option use_label_encoder=False when constructing XGBClassifier object; and 2) Encode your labels (y) as integers starting with 0, i.e. 0, 1, 2, ..., [num_class - 1].\n",
      "  warnings.warn(label_encoder_deprecation_msg, UserWarning)\n",
      "C:\\Users\\kenta\\anaconda3\\lib\\site-packages\\xgboost\\data.py:250: FutureWarning: pandas.Int64Index is deprecated and will be removed from pandas in a future version. Use pandas.Index with the appropriate dtype instead.\n",
      "  elif isinstance(data.columns, (pd.Int64Index, pd.RangeIndex)):\n"
     ]
    },
    {
     "name": "stdout",
     "output_type": "stream",
     "text": [
      "              precision    recall  f1-score   support\n",
      "\n",
      "           0       0.82      0.82      0.82      2620\n",
      "           1       0.92      0.97      0.95      2659\n",
      "           2       0.88      0.84      0.86      2666\n",
      "\n",
      "    accuracy                           0.88      7945\n",
      "   macro avg       0.87      0.88      0.87      7945\n",
      "weighted avg       0.87      0.88      0.87      7945\n",
      "\n"
     ]
    }
   ],
   "source": [
    "#set up tuned xgb classifier for the classification report from the validatoin set\n",
    "xgb_cl_t = xgb.XGBClassifier(gamma = 0.25,max_depth = 7,min_child_weight = 1,learning_rate = 0.15,colsample_bytree=0.5,tree_method='hist')\n",
    "\n",
    "xgb_cl_t.fit(X_train,y_train)\n",
    "\n",
    "y_pred = xgb_cl_t.predict(X_test)\n",
    "\n",
    "print(classification_report(y_test, y_pred))"
   ]
  },
  {
   "cell_type": "code",
   "execution_count": 16,
   "metadata": {
    "executionInfo": {
     "elapsed": 5,
     "status": "aborted",
     "timestamp": 1670600102451,
     "user": {
      "displayName": "rattle “rattlecruiser” cruiser",
      "userId": "14107770519811238730"
     },
     "user_tz": 480
    },
    "id": "mLFFicgfwSTq"
   },
   "outputs": [
    {
     "data": {
      "image/png": "[encoded data removed]",
      "text/plain": [
       "<Figure size 640x480 with 2 Axes>"
      ]
     },
     "metadata": {},
     "output_type": "display_data"
    }
   ],
   "source": [
    "#plotting confusion matrix\n",
    "cf_matrix = confusion_matrix(y_test,y_pred)\n",
    "\n",
    "categories = [\"Deceased\",\"Hospitalized\",\"Non-Hospitalized\"]\n",
    "h_map = sns.heatmap(cf_matrix/np.sum(cf_matrix),fmt='.2%', annot=True,xticklabels= categories,yticklabels = categories)\n",
    "h_map.set_xlabel('True label', fontsize=12)\n",
    "h_map.set_ylabel('Predicted Label', fontsize=12)\n",
    "h_map.set_title('Confusion Matrix of Validation Set For XGBoost', fontsize=15)\n",
    "plt.savefig('plots/plot 1.png')"
   ]
  },
  {
   "cell_type": "code",
   "execution_count": 17,
   "metadata": {
    "executionInfo": {
     "elapsed": 5,
     "status": "aborted",
     "timestamp": 1670600102452,
     "user": {
      "displayName": "rattle “rattlecruiser” cruiser",
      "userId": "14107770519811238730"
     },
     "user_tz": 480
    },
    "id": "clNsqbr-wcZx"
   },
   "outputs": [],
   "source": [
    "#set up data for overfitting graph\n",
    "depth_val = [i for i in range(1, 15)]\n",
    "train_scores, test_scores = list(), list()"
   ]
  },
  {
   "cell_type": "code",
   "execution_count": 18,
   "metadata": {
    "executionInfo": {
     "elapsed": 5,
     "status": "aborted",
     "timestamp": 1670600102452,
     "user": {
      "displayName": "rattle “rattlecruiser” cruiser",
      "userId": "14107770519811238730"
     },
     "user_tz": 480
    },
    "id": "DlKrITAM--Wy"
   },
   "outputs": [
    {
     "name": "stderr",
     "output_type": "stream",
     "text": [
      "C:\\Users\\kenta\\anaconda3\\lib\\site-packages\\xgboost\\sklearn.py:1224: UserWarning: The use of label encoder in XGBClassifier is deprecated and will be removed in a future release. To remove this warning, do the following: 1) Pass option use_label_encoder=False when constructing XGBClassifier object; and 2) Encode your labels (y) as integers starting with 0, i.e. 0, 1, 2, ..., [num_class - 1].\n",
      "  warnings.warn(label_encoder_deprecation_msg, UserWarning)\n",
      "C:\\Users\\kenta\\anaconda3\\lib\\site-packages\\xgboost\\data.py:250: FutureWarning: pandas.Int64Index is deprecated and will be removed from pandas in a future version. Use pandas.Index with the appropriate dtype instead.\n",
      "  elif isinstance(data.columns, (pd.Int64Index, pd.RangeIndex)):\n"
     ]
    },
    {
     "name": "stdout",
     "output_type": "stream",
     "text": [
      "[23:14:56] WARNING: C:\\Windows\\Temp\\abs_557yfx631l\\croots\\recipe\\xgboost-split_1659548953302\\work\\src\\learner.cc:1115: Starting in XGBoost 1.3.0, the default evaluation metric used with the objective 'multi:softprob' was changed from 'merror' to 'mlogloss'. Explicitly set eval_metric if you'd like to restore the old behavior.\n",
      ">1, train: 0.803, test: 0.798\n",
      "[23:14:57] WARNING: C:\\Windows\\Temp\\abs_557yfx631l\\croots\\recipe\\xgboost-split_1659548953302\\work\\src\\learner.cc:1115: Starting in XGBoost 1.3.0, the default evaluation metric used with the objective 'multi:softprob' was changed from 'merror' to 'mlogloss'. Explicitly set eval_metric if you'd like to restore the old behavior.\n"
     ]
    },
    {
     "name": "stderr",
     "output_type": "stream",
     "text": [
      "C:\\Users\\kenta\\anaconda3\\lib\\site-packages\\xgboost\\sklearn.py:1224: UserWarning: The use of label encoder in XGBClassifier is deprecated and will be removed in a future release. To remove this warning, do the following: 1) Pass option use_label_encoder=False when constructing XGBClassifier object; and 2) Encode your labels (y) as integers starting with 0, i.e. 0, 1, 2, ..., [num_class - 1].\n",
      "  warnings.warn(label_encoder_deprecation_msg, UserWarning)\n",
      "C:\\Users\\kenta\\anaconda3\\lib\\site-packages\\xgboost\\data.py:250: FutureWarning: pandas.Int64Index is deprecated and will be removed from pandas in a future version. Use pandas.Index with the appropriate dtype instead.\n",
      "  elif isinstance(data.columns, (pd.Int64Index, pd.RangeIndex)):\n"
     ]
    },
    {
     "name": "stdout",
     "output_type": "stream",
     "text": [
      ">2, train: 0.821, test: 0.813\n",
      "[23:14:58] WARNING: C:\\Windows\\Temp\\abs_557yfx631l\\croots\\recipe\\xgboost-split_1659548953302\\work\\src\\learner.cc:1115: Starting in XGBoost 1.3.0, the default evaluation metric used with the objective 'multi:softprob' was changed from 'merror' to 'mlogloss'. Explicitly set eval_metric if you'd like to restore the old behavior.\n"
     ]
    },
    {
     "name": "stderr",
     "output_type": "stream",
     "text": [
      "C:\\Users\\kenta\\anaconda3\\lib\\site-packages\\xgboost\\sklearn.py:1224: UserWarning: The use of label encoder in XGBClassifier is deprecated and will be removed in a future release. To remove this warning, do the following: 1) Pass option use_label_encoder=False when constructing XGBClassifier object; and 2) Encode your labels (y) as integers starting with 0, i.e. 0, 1, 2, ..., [num_class - 1].\n",
      "  warnings.warn(label_encoder_deprecation_msg, UserWarning)\n",
      "C:\\Users\\kenta\\anaconda3\\lib\\site-packages\\xgboost\\data.py:250: FutureWarning: pandas.Int64Index is deprecated and will be removed from pandas in a future version. Use pandas.Index with the appropriate dtype instead.\n",
      "  elif isinstance(data.columns, (pd.Int64Index, pd.RangeIndex)):\n"
     ]
    },
    {
     "name": "stdout",
     "output_type": "stream",
     "text": [
      ">3, train: 0.841, test: 0.832\n",
      "[23:14:59] WARNING: C:\\Windows\\Temp\\abs_557yfx631l\\croots\\recipe\\xgboost-split_1659548953302\\work\\src\\learner.cc:1115: Starting in XGBoost 1.3.0, the default evaluation metric used with the objective 'multi:softprob' was changed from 'merror' to 'mlogloss'. Explicitly set eval_metric if you'd like to restore the old behavior.\n"
     ]
    },
    {
     "name": "stderr",
     "output_type": "stream",
     "text": [
      "C:\\Users\\kenta\\anaconda3\\lib\\site-packages\\xgboost\\sklearn.py:1224: UserWarning: The use of label encoder in XGBClassifier is deprecated and will be removed in a future release. To remove this warning, do the following: 1) Pass option use_label_encoder=False when constructing XGBClassifier object; and 2) Encode your labels (y) as integers starting with 0, i.e. 0, 1, 2, ..., [num_class - 1].\n",
      "  warnings.warn(label_encoder_deprecation_msg, UserWarning)\n",
      "C:\\Users\\kenta\\anaconda3\\lib\\site-packages\\xgboost\\data.py:250: FutureWarning: pandas.Int64Index is deprecated and will be removed from pandas in a future version. Use pandas.Index with the appropriate dtype instead.\n",
      "  elif isinstance(data.columns, (pd.Int64Index, pd.RangeIndex)):\n"
     ]
    },
    {
     "name": "stdout",
     "output_type": "stream",
     "text": [
      ">4, train: 0.851, test: 0.839\n",
      "[23:15:00] WARNING: C:\\Windows\\Temp\\abs_557yfx631l\\croots\\recipe\\xgboost-split_1659548953302\\work\\src\\learner.cc:1115: Starting in XGBoost 1.3.0, the default evaluation metric used with the objective 'multi:softprob' was changed from 'merror' to 'mlogloss'. Explicitly set eval_metric if you'd like to restore the old behavior.\n"
     ]
    },
    {
     "name": "stderr",
     "output_type": "stream",
     "text": [
      "C:\\Users\\kenta\\anaconda3\\lib\\site-packages\\xgboost\\sklearn.py:1224: UserWarning: The use of label encoder in XGBClassifier is deprecated and will be removed in a future release. To remove this warning, do the following: 1) Pass option use_label_encoder=False when constructing XGBClassifier object; and 2) Encode your labels (y) as integers starting with 0, i.e. 0, 1, 2, ..., [num_class - 1].\n",
      "  warnings.warn(label_encoder_deprecation_msg, UserWarning)\n",
      "C:\\Users\\kenta\\anaconda3\\lib\\site-packages\\xgboost\\data.py:250: FutureWarning: pandas.Int64Index is deprecated and will be removed from pandas in a future version. Use pandas.Index with the appropriate dtype instead.\n",
      "  elif isinstance(data.columns, (pd.Int64Index, pd.RangeIndex)):\n"
     ]
    },
    {
     "name": "stdout",
     "output_type": "stream",
     "text": [
      ">5, train: 0.865, test: 0.852\n",
      "[23:15:01] WARNING: C:\\Windows\\Temp\\abs_557yfx631l\\croots\\recipe\\xgboost-split_1659548953302\\work\\src\\learner.cc:1115: Starting in XGBoost 1.3.0, the default evaluation metric used with the objective 'multi:softprob' was changed from 'merror' to 'mlogloss'. Explicitly set eval_metric if you'd like to restore the old behavior.\n"
     ]
    },
    {
     "name": "stderr",
     "output_type": "stream",
     "text": [
      "C:\\Users\\kenta\\anaconda3\\lib\\site-packages\\xgboost\\sklearn.py:1224: UserWarning: The use of label encoder in XGBClassifier is deprecated and will be removed in a future release. To remove this warning, do the following: 1) Pass option use_label_encoder=False when constructing XGBClassifier object; and 2) Encode your labels (y) as integers starting with 0, i.e. 0, 1, 2, ..., [num_class - 1].\n",
      "  warnings.warn(label_encoder_deprecation_msg, UserWarning)\n",
      "C:\\Users\\kenta\\anaconda3\\lib\\site-packages\\xgboost\\data.py:250: FutureWarning: pandas.Int64Index is deprecated and will be removed from pandas in a future version. Use pandas.Index with the appropriate dtype instead.\n",
      "  elif isinstance(data.columns, (pd.Int64Index, pd.RangeIndex)):\n"
     ]
    },
    {
     "name": "stdout",
     "output_type": "stream",
     "text": [
      ">6, train: 0.879, test: 0.865\n",
      "[23:15:02] WARNING: C:\\Windows\\Temp\\abs_557yfx631l\\croots\\recipe\\xgboost-split_1659548953302\\work\\src\\learner.cc:1115: Starting in XGBoost 1.3.0, the default evaluation metric used with the objective 'multi:softprob' was changed from 'merror' to 'mlogloss'. Explicitly set eval_metric if you'd like to restore the old behavior.\n"
     ]
    },
    {
     "name": "stderr",
     "output_type": "stream",
     "text": [
      "C:\\Users\\kenta\\anaconda3\\lib\\site-packages\\xgboost\\sklearn.py:1224: UserWarning: The use of label encoder in XGBClassifier is deprecated and will be removed in a future release. To remove this warning, do the following: 1) Pass option use_label_encoder=False when constructing XGBClassifier object; and 2) Encode your labels (y) as integers starting with 0, i.e. 0, 1, 2, ..., [num_class - 1].\n",
      "  warnings.warn(label_encoder_deprecation_msg, UserWarning)\n",
      "C:\\Users\\kenta\\anaconda3\\lib\\site-packages\\xgboost\\data.py:250: FutureWarning: pandas.Int64Index is deprecated and will be removed from pandas in a future version. Use pandas.Index with the appropriate dtype instead.\n",
      "  elif isinstance(data.columns, (pd.Int64Index, pd.RangeIndex)):\n"
     ]
    },
    {
     "name": "stdout",
     "output_type": "stream",
     "text": [
      ">7, train: 0.891, test: 0.875\n",
      "[23:15:04] WARNING: C:\\Windows\\Temp\\abs_557yfx631l\\croots\\recipe\\xgboost-split_1659548953302\\work\\src\\learner.cc:1115: Starting in XGBoost 1.3.0, the default evaluation metric used with the objective 'multi:softprob' was changed from 'merror' to 'mlogloss'. Explicitly set eval_metric if you'd like to restore the old behavior.\n"
     ]
    },
    {
     "name": "stderr",
     "output_type": "stream",
     "text": [
      "C:\\Users\\kenta\\anaconda3\\lib\\site-packages\\xgboost\\sklearn.py:1224: UserWarning: The use of label encoder in XGBClassifier is deprecated and will be removed in a future release. To remove this warning, do the following: 1) Pass option use_label_encoder=False when constructing XGBClassifier object; and 2) Encode your labels (y) as integers starting with 0, i.e. 0, 1, 2, ..., [num_class - 1].\n",
      "  warnings.warn(label_encoder_deprecation_msg, UserWarning)\n",
      "C:\\Users\\kenta\\anaconda3\\lib\\site-packages\\xgboost\\data.py:250: FutureWarning: pandas.Int64Index is deprecated and will be removed from pandas in a future version. Use pandas.Index with the appropriate dtype instead.\n",
      "  elif isinstance(data.columns, (pd.Int64Index, pd.RangeIndex)):\n"
     ]
    },
    {
     "name": "stdout",
     "output_type": "stream",
     "text": [
      ">8, train: 0.902, test: 0.889\n",
      "[23:15:05] WARNING: C:\\Windows\\Temp\\abs_557yfx631l\\croots\\recipe\\xgboost-split_1659548953302\\work\\src\\learner.cc:1115: Starting in XGBoost 1.3.0, the default evaluation metric used with the objective 'multi:softprob' was changed from 'merror' to 'mlogloss'. Explicitly set eval_metric if you'd like to restore the old behavior.\n"
     ]
    },
    {
     "name": "stderr",
     "output_type": "stream",
     "text": [
      "C:\\Users\\kenta\\anaconda3\\lib\\site-packages\\xgboost\\sklearn.py:1224: UserWarning: The use of label encoder in XGBClassifier is deprecated and will be removed in a future release. To remove this warning, do the following: 1) Pass option use_label_encoder=False when constructing XGBClassifier object; and 2) Encode your labels (y) as integers starting with 0, i.e. 0, 1, 2, ..., [num_class - 1].\n",
      "  warnings.warn(label_encoder_deprecation_msg, UserWarning)\n",
      "C:\\Users\\kenta\\anaconda3\\lib\\site-packages\\xgboost\\data.py:250: FutureWarning: pandas.Int64Index is deprecated and will be removed from pandas in a future version. Use pandas.Index with the appropriate dtype instead.\n",
      "  elif isinstance(data.columns, (pd.Int64Index, pd.RangeIndex)):\n"
     ]
    },
    {
     "name": "stdout",
     "output_type": "stream",
     "text": [
      ">9, train: 0.910, test: 0.896\n",
      "[23:15:06] WARNING: C:\\Windows\\Temp\\abs_557yfx631l\\croots\\recipe\\xgboost-split_1659548953302\\work\\src\\learner.cc:1115: Starting in XGBoost 1.3.0, the default evaluation metric used with the objective 'multi:softprob' was changed from 'merror' to 'mlogloss'. Explicitly set eval_metric if you'd like to restore the old behavior.\n"
     ]
    },
    {
     "name": "stderr",
     "output_type": "stream",
     "text": [
      "C:\\Users\\kenta\\anaconda3\\lib\\site-packages\\xgboost\\sklearn.py:1224: UserWarning: The use of label encoder in XGBClassifier is deprecated and will be removed in a future release. To remove this warning, do the following: 1) Pass option use_label_encoder=False when constructing XGBClassifier object; and 2) Encode your labels (y) as integers starting with 0, i.e. 0, 1, 2, ..., [num_class - 1].\n",
      "  warnings.warn(label_encoder_deprecation_msg, UserWarning)\n",
      "C:\\Users\\kenta\\anaconda3\\lib\\site-packages\\xgboost\\data.py:250: FutureWarning: pandas.Int64Index is deprecated and will be removed from pandas in a future version. Use pandas.Index with the appropriate dtype instead.\n",
      "  elif isinstance(data.columns, (pd.Int64Index, pd.RangeIndex)):\n"
     ]
    },
    {
     "name": "stdout",
     "output_type": "stream",
     "text": [
      ">10, train: 0.915, test: 0.900\n",
      "[23:15:08] WARNING: C:\\Windows\\Temp\\abs_557yfx631l\\croots\\recipe\\xgboost-split_1659548953302\\work\\src\\learner.cc:1115: Starting in XGBoost 1.3.0, the default evaluation metric used with the objective 'multi:softprob' was changed from 'merror' to 'mlogloss'. Explicitly set eval_metric if you'd like to restore the old behavior.\n"
     ]
    },
    {
     "name": "stderr",
     "output_type": "stream",
     "text": [
      "C:\\Users\\kenta\\anaconda3\\lib\\site-packages\\xgboost\\sklearn.py:1224: UserWarning: The use of label encoder in XGBClassifier is deprecated and will be removed in a future release. To remove this warning, do the following: 1) Pass option use_label_encoder=False when constructing XGBClassifier object; and 2) Encode your labels (y) as integers starting with 0, i.e. 0, 1, 2, ..., [num_class - 1].\n",
      "  warnings.warn(label_encoder_deprecation_msg, UserWarning)\n",
      "C:\\Users\\kenta\\anaconda3\\lib\\site-packages\\xgboost\\data.py:250: FutureWarning: pandas.Int64Index is deprecated and will be removed from pandas in a future version. Use pandas.Index with the appropriate dtype instead.\n",
      "  elif isinstance(data.columns, (pd.Int64Index, pd.RangeIndex)):\n"
     ]
    },
    {
     "name": "stdout",
     "output_type": "stream",
     "text": [
      ">11, train: 0.919, test: 0.904\n",
      "[23:15:09] WARNING: C:\\Windows\\Temp\\abs_557yfx631l\\croots\\recipe\\xgboost-split_1659548953302\\work\\src\\learner.cc:1115: Starting in XGBoost 1.3.0, the default evaluation metric used with the objective 'multi:softprob' was changed from 'merror' to 'mlogloss'. Explicitly set eval_metric if you'd like to restore the old behavior.\n"
     ]
    },
    {
     "name": "stderr",
     "output_type": "stream",
     "text": [
      "C:\\Users\\kenta\\anaconda3\\lib\\site-packages\\xgboost\\sklearn.py:1224: UserWarning: The use of label encoder in XGBClassifier is deprecated and will be removed in a future release. To remove this warning, do the following: 1) Pass option use_label_encoder=False when constructing XGBClassifier object; and 2) Encode your labels (y) as integers starting with 0, i.e. 0, 1, 2, ..., [num_class - 1].\n",
      "  warnings.warn(label_encoder_deprecation_msg, UserWarning)\n",
      "C:\\Users\\kenta\\anaconda3\\lib\\site-packages\\xgboost\\data.py:250: FutureWarning: pandas.Int64Index is deprecated and will be removed from pandas in a future version. Use pandas.Index with the appropriate dtype instead.\n",
      "  elif isinstance(data.columns, (pd.Int64Index, pd.RangeIndex)):\n"
     ]
    },
    {
     "name": "stdout",
     "output_type": "stream",
     "text": [
      ">12, train: 0.923, test: 0.908\n",
      "[23:15:11] WARNING: C:\\Windows\\Temp\\abs_557yfx631l\\croots\\recipe\\xgboost-split_1659548953302\\work\\src\\learner.cc:1115: Starting in XGBoost 1.3.0, the default evaluation metric used with the objective 'multi:softprob' was changed from 'merror' to 'mlogloss'. Explicitly set eval_metric if you'd like to restore the old behavior.\n"
     ]
    },
    {
     "name": "stderr",
     "output_type": "stream",
     "text": [
      "C:\\Users\\kenta\\anaconda3\\lib\\site-packages\\xgboost\\sklearn.py:1224: UserWarning: The use of label encoder in XGBClassifier is deprecated and will be removed in a future release. To remove this warning, do the following: 1) Pass option use_label_encoder=False when constructing XGBClassifier object; and 2) Encode your labels (y) as integers starting with 0, i.e. 0, 1, 2, ..., [num_class - 1].\n",
      "  warnings.warn(label_encoder_deprecation_msg, UserWarning)\n",
      "C:\\Users\\kenta\\anaconda3\\lib\\site-packages\\xgboost\\data.py:250: FutureWarning: pandas.Int64Index is deprecated and will be removed from pandas in a future version. Use pandas.Index with the appropriate dtype instead.\n",
      "  elif isinstance(data.columns, (pd.Int64Index, pd.RangeIndex)):\n"
     ]
    },
    {
     "name": "stdout",
     "output_type": "stream",
     "text": [
      ">13, train: 0.927, test: 0.908\n",
      "[23:15:13] WARNING: C:\\Windows\\Temp\\abs_557yfx631l\\croots\\recipe\\xgboost-split_1659548953302\\work\\src\\learner.cc:1115: Starting in XGBoost 1.3.0, the default evaluation metric used with the objective 'multi:softprob' was changed from 'merror' to 'mlogloss'. Explicitly set eval_metric if you'd like to restore the old behavior.\n"
     ]
    },
    {
     "name": "stderr",
     "output_type": "stream",
     "text": [
      "C:\\Users\\kenta\\anaconda3\\lib\\site-packages\\xgboost\\sklearn.py:1224: UserWarning: The use of label encoder in XGBClassifier is deprecated and will be removed in a future release. To remove this warning, do the following: 1) Pass option use_label_encoder=False when constructing XGBClassifier object; and 2) Encode your labels (y) as integers starting with 0, i.e. 0, 1, 2, ..., [num_class - 1].\n",
      "  warnings.warn(label_encoder_deprecation_msg, UserWarning)\n",
      "C:\\Users\\kenta\\anaconda3\\lib\\site-packages\\xgboost\\data.py:250: FutureWarning: pandas.Int64Index is deprecated and will be removed from pandas in a future version. Use pandas.Index with the appropriate dtype instead.\n",
      "  elif isinstance(data.columns, (pd.Int64Index, pd.RangeIndex)):\n"
     ]
    },
    {
     "name": "stdout",
     "output_type": "stream",
     "text": [
      ">14, train: 0.929, test: 0.910\n"
     ]
    }
   ],
   "source": [
    "#create data for overfitting graph\n",
    "\n",
    "for i in depth_val:\n",
    "\n",
    "    xgb_cl_t = xgb.XGBClassifier(gamma = 0.25,max_depth = i,min_child_weight = 1,learning_rate = 0.15,colsample_bytree=0.5,tree_method='hist')\n",
    "\n",
    "    xgb_cl_t.fit(X_train, y_train)\n",
    "\n",
    "    train_pred = xgb_cl_t.predict(X_train)\n",
    "    train_acc = accuracy_score(y_train, train_pred)\n",
    "    train_scores.append(train_acc)\n",
    "\n",
    "    test_pred = xgb_cl_t.predict(X_test)\n",
    "    test_acc = accuracy_score(y_test, test_pred)\n",
    "    test_scores.append(test_acc)\n",
    "    \n",
    "\n",
    "    print('>%d, train: %.3f, test: %.3f' % (i, train_acc, test_acc))\n",
    "\n"
   ]
  },
  {
   "cell_type": "code",
   "execution_count": 19,
   "metadata": {},
   "outputs": [
    {
     "data": {
      "image/png": "[encoded data removed]",
      "text/plain": [
       "<Figure size 640x480 with 1 Axes>"
      ]
     },
     "metadata": {},
     "output_type": "display_data"
    }
   ],
   "source": [
    "#plot overfitting graph\n",
    "\n",
    "plt.plot(depth_val, train_scores, '-o', label='Train')\n",
    "plt.plot(depth_val, test_scores, '-o', label='Test')\n",
    "plt.legend()\n",
    "plt.title(\"XGBoost accuracy on Train/Test data for different max_depth\") \n",
    "plt.xlabel(\"max_depth value\") \n",
    "plt.ylabel(\"Accuracy Score\") \n",
    "plt.savefig('plots/plot 2.png')\n"
   ]
  },
  {
   "cell_type": "code",
   "execution_count": null,
   "metadata": {},
   "outputs": [],
   "source": []
  },
  {
   "cell_type": "code",
   "execution_count": 20,
   "metadata": {},
   "outputs": [
    {
     "name": "stderr",
     "output_type": "stream",
     "text": [
      "C:\\Users\\kenta\\anaconda3\\lib\\site-packages\\xgboost\\sklearn.py:1224: UserWarning: The use of label encoder in XGBClassifier is deprecated and will be removed in a future release. To remove this warning, do the following: 1) Pass option use_label_encoder=False when constructing XGBClassifier object; and 2) Encode your labels (y) as integers starting with 0, i.e. 0, 1, 2, ..., [num_class - 1].\n",
      "  warnings.warn(label_encoder_deprecation_msg, UserWarning)\n",
      "C:\\Users\\kenta\\anaconda3\\lib\\site-packages\\xgboost\\data.py:250: FutureWarning: pandas.Int64Index is deprecated and will be removed from pandas in a future version. Use pandas.Index with the appropriate dtype instead.\n",
      "  elif isinstance(data.columns, (pd.Int64Index, pd.RangeIndex)):\n"
     ]
    },
    {
     "name": "stdout",
     "output_type": "stream",
     "text": [
      "[23:15:15] WARNING: C:\\Windows\\Temp\\abs_557yfx631l\\croots\\recipe\\xgboost-split_1659548953302\\work\\src\\learner.cc:1115: Starting in XGBoost 1.3.0, the default evaluation metric used with the objective 'multi:softprob' was changed from 'merror' to 'mlogloss'. Explicitly set eval_metric if you'd like to restore the old behavior.\n"
     ]
    }
   ],
   "source": [
    "#Use final model to predict cases_test\n",
    "\n",
    "model = xgb.XGBClassifier(gamma = 0.25,max_depth = 7,min_child_weight = 1,learning_rate = 0.15,colsample_bytree=0.5,tree_method='hist')\n",
    "\n",
    "model.fit(X_processed,y_processed)\n",
    "\n",
    "prediction = model.predict(test_processed)"
   ]
  },
  {
   "cell_type": "code",
   "execution_count": 21,
   "metadata": {},
   "outputs": [],
   "source": [
    "#Converting prediction to csv\n",
    "pred_df = pd.DataFrame(data = prediction,columns = [\"Prediction\"])\n",
    "pred_df[\"Id\"] = pred_df.index\n",
    "\n",
    "pred_df = pred_df[[\"Id\",\"Prediction\"]]\n",
    "pred_df.to_csv('predictions.csv', index=False)"
   ]
  },
  {
   "cell_type": "code",
   "execution_count": 24,
   "metadata": {},
   "outputs": [
    {
     "data": {
      "text/plain": [
       "Prediction\n",
       "0     395\n",
       "1    3296\n",
       "2     613\n",
       "dtype: int64"
      ]
     },
     "execution_count": 24,
     "metadata": {},
     "output_type": "execute_result"
    }
   ],
   "source": []
  },
  {
   "cell_type": "code",
   "execution_count": null,
   "metadata": {},
   "outputs": [],
   "source": []
  },
  {
   "cell_type": "code",
   "execution_count": null,
   "metadata": {},
   "outputs": [],
   "source": []
  },
  {
   "cell_type": "code",
   "execution_count": null,
   "metadata": {},
   "outputs": [],
   "source": []
  },
  {
   "cell_type": "code",
   "execution_count": null,
   "metadata": {},
   "outputs": [],
   "source": []
  },
  {
   "cell_type": "code",
   "execution_count": null,
   "metadata": {},
   "outputs": [],
   "source": []
  },
  {
   "cell_type": "code",
   "execution_count": null,
   "metadata": {},
   "outputs": [],
   "source": []
  },
  {
   "cell_type": "code",
   "execution_count": null,
   "metadata": {},
   "outputs": [],
   "source": []
  },
  {
   "cell_type": "code",
   "execution_count": null,
   "metadata": {},
   "outputs": [],
   "source": []
  },
  {
   "cell_type": "code",
   "execution_count": null,
   "metadata": {},
   "outputs": [],
   "source": []
  }
 ],
 "metadata": {
  "colab": {
   "provenance": []
  },
  "kernelspec": {
   "display_name": "Python 3 (ipykernel)",
   "language": "python",
   "name": "python3"
  },
  "language_info": {
   "codemirror_mode": {
    "name": "ipython",
    "version": 3
   },
   "file_extension": ".py",
   "mimetype": "text/x-python",
   "name": "python",
   "nbconvert_exporter": "python",
   "pygments_lexer": "ipython3",
   "version": "3.9.13"
  }
 },
 "nbformat": 4,
 "nbformat_minor": 4
}
